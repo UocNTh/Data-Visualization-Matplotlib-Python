{
 "cells": [
  {
   "attachments": {},
   "cell_type": "markdown",
   "metadata": {},
   "source": [
    "**The Histogram**\n",
    "\n",
    "Histogram là biểu đồ hiển thị phân phối tần số .\n",
    "\n",
    "Nó là một biểu đồ hiển thị số lượng quan sát trong mỗi khoảng thời gian nhất định."
   ]
  },
  {
   "attachments": {},
   "cell_type": "markdown",
   "metadata": {},
   "source": [
    "Ví dụ: Giả sử bạn hỏi chiều cao của 250 người, bạn có thể nhận được một biểu đồ như sau\n",
    "\n",
    "\n",
    "![m](https://www.w3schools.com/python/img_matplotlib_histogram1.png)\n",
    "\n"
   ]
  },
  {
   "attachments": {},
   "cell_type": "markdown",
   "metadata": {},
   "source": [
    "Từ biểu đồ:\n",
    "\n",
    "    2 người cao từ 140 đến 145cm\n",
    "\n",
    "    5 người cao từ 145 đến 150cm\n",
    "\n",
    "    15 người cao từ 151 đến 156cm\n",
    "\n",
    "    31 người cao từ 157 đến 162cm\n",
    "\n",
    "    46 người cao từ 163 đến 168cm\n",
    "\n",
    "    53 người cao từ 168 đến 173cm\n",
    "\n",
    "    45 người cao từ 173 đến 178cm\n",
    "\n",
    "    28 người cao từ 179 đến 184cm\n",
    "\n",
    "    21 người từ 185 đến 190cm\n",
    "\n",
    "    4 người từ 190 đến 195cm"
   ]
  },
  {
   "attachments": {},
   "cell_type": "markdown",
   "metadata": {},
   "source": [
    "Hàm ```hist()``` sẽ sử dụng một mảng số để tạo biểu đồ, mảng này được gửi vào hàm dưới dạng đối số."
   ]
  },
  {
   "attachments": {},
   "cell_type": "markdown",
   "metadata": {},
   "source": [
    "Tạo ngẫu nhiên một mảng có 250 giá trị, trong đó các giá trị sẽ tập trung vào khoảng 170 và độ lệch chuẩn là 10."
   ]
  },
  {
   "cell_type": "code",
   "execution_count": 5,
   "metadata": {},
   "outputs": [
    {
     "name": "stdout",
     "output_type": "stream",
     "text": [
      "[160.618046   166.21820529 192.5169364  164.84361774 165.22131712\n",
      " 189.02878549 180.55755909 165.5303303  184.60947689 163.85395302\n",
      " 185.87359975 151.55092043 174.10476381 173.58760003 150.37680203\n",
      " 164.04828494 175.39345901 163.26849479 178.84381656 170.59958425\n",
      " 186.43164526 167.35499908 174.1377348  164.70406044 170.32293169\n",
      " 161.50964102 168.6140295  168.35822541 171.02950773 166.6492831\n",
      " 194.52637054 160.7431235  154.01421532 145.99009474 175.10579006\n",
      " 163.98120553 158.27885732 183.1453283  174.34547594 174.99387872\n",
      " 174.73183872 164.456119   170.1576511  179.21117456 163.75517663\n",
      " 135.72990239 177.56420985 171.6202908  154.49784585 162.05921307\n",
      " 178.91052433 151.93601266 174.94740664 168.05482469 155.94279414\n",
      " 169.86103561 167.3989374  175.37160621 168.32787242 181.49837315\n",
      " 167.31079011 152.64126067 180.66462164 175.846336   170.10039176\n",
      " 179.42561277 169.83250628 175.16272823 159.25037129 183.18126274\n",
      " 168.29947057 171.02932244 168.30407485 174.45940356 164.93566578\n",
      " 167.84235874 172.10520876 178.89070925 177.34231524 188.07453037\n",
      " 180.17538563 166.7434237  169.20743121 165.93446125 176.99122799\n",
      " 170.18144941 181.5694404  178.09150485 163.99899108 172.98393943\n",
      " 181.62573966 183.99351094 157.81137984 180.26696027 190.2835652\n",
      " 158.98105552 159.69557755 165.33529581 198.74963829 162.72113962]\n"
     ]
    }
   ],
   "source": [
    "import numpy as np\n",
    "\n",
    "x = np.random.normal(170, 10, 100)\n",
    "\n",
    "print(x)"
   ]
  },
  {
   "cell_type": "code",
   "execution_count": 9,
   "metadata": {},
   "outputs": [
    {
     "data": {
      "image/png": "[encoded data removed]",
      "text/plain": [
       "<Figure size 640x480 with 1 Axes>"
      ]
     },
     "metadata": {},
     "output_type": "display_data"
    }
   ],
   "source": [
    "import matplotlib.pyplot as plt\n",
    "import numpy as np\n",
    "\n",
    "plt.hist(x, color='r')\n",
    "plt.show()"
   ]
  }
 ],
 "metadata": {
  "kernelspec": {
   "display_name": "Python 3",
   "language": "python",
   "name": "python3"
  },
  "language_info": {
   "codemirror_mode": {
    "name": "ipython",
    "version": 3
   },
   "file_extension": ".py",
   "mimetype": "text/x-python",
   "name": "python",
   "nbconvert_exporter": "python",
   "pygments_lexer": "ipython3",
   "version": "3.10.5"
  },
  "orig_nbformat": 4
 },
 "nbformat": 4,
 "nbformat_minor": 2
}
